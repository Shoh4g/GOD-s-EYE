{
  "nbformat": 4,
  "nbformat_minor": 0,
  "metadata": {
    "colab": {
      "name": "BrainTumour.ipynb",
      "provenance": [],
      "collapsed_sections": []
    },
    "kernelspec": {
      "name": "python3",
      "display_name": "Python 3"
    },
    "language_info": {
      "name": "python"
    },
    "accelerator": "GPU",
    "gpuClass": "standard"
  },
  "cells": [
    {
      "cell_type": "code",
      "source": [
        "import warnings\n",
        "warnings.filterwarnings('ignore')"
      ],
      "metadata": {
        "id": "fbT4NstC38lB"
      },
      "execution_count": null,
      "outputs": []
    },
    {
      "cell_type": "code",
      "execution_count": null,
      "metadata": {
        "id": "k6lfvxgH3Kej"
      },
      "outputs": [],
      "source": [
        "!wget https://www.dropbox.com/s/73uhzn8o7vshhs8/archive.zip?dl=0"
      ]
    },
    {
      "cell_type": "code",
      "source": [
        "!unzip /content/archive.zip?dl=0"
      ],
      "metadata": {
        "id": "k1bBLr6D3p9t"
      },
      "execution_count": null,
      "outputs": []
    },
    {
      "cell_type": "code",
      "source": [
        "import numpy as np\n",
        "import matplotlib.pyplot as plt\n",
        "import os\n",
        "import math\n",
        "import shutil\n",
        "import glob"
      ],
      "metadata": {
        "id": "3zRHQZtu4E52"
      },
      "execution_count": null,
      "outputs": []
    },
    {
      "cell_type": "code",
      "source": [
        "ROOT_DIR=\"/content/brain_tumor_dataset\"\n",
        "number_of_images = {}\n",
        "for dir in os.listdir(ROOT_DIR):\n",
        "  number_of_images[dir] = len(os.listdir(os.path.join(ROOT_DIR, dir)))\n",
        "number_of_images.items()"
      ],
      "metadata": {
        "colab": {
          "base_uri": "https://localhost:8080/"
        },
        "id": "aIXCmqWd4NHP",
        "outputId": "79e5c3ec-a65b-4f17-a433-0cafa0e363e9"
      },
      "execution_count": null,
      "outputs": [
        {
          "output_type": "execute_result",
          "data": {
            "text/plain": [
              "dict_items([('no', 98), ('yes', 155)])"
            ]
          },
          "metadata": {},
          "execution_count": 5
        }
      ]
    },
    {
      "cell_type": "code",
      "source": [
        "def datafolder(p, split):\n",
        "  if not os.path.exists(\"./\"+p):\n",
        "    os.mkdir(\"./\"+p)\n",
        "    for dir in os.listdir(ROOT_DIR):\n",
        "      os.makedirs(\"./\"+p+\"/\"+dir)\n",
        "\n",
        "      for img in np.random.choice(a = os.listdir(os.path.join(ROOT_DIR,dir)), \n",
        "                                size = (math.floor(split *number_of_images[dir])-5), replace =False):\n",
        "        O = os.path.join(ROOT_DIR, dir, img)\n",
        "        D = os.path.join(\"./\"+p,dir)\n",
        "        shutil.copy(O,D)\n",
        "        os.remove(O)\n",
        "  else:\n",
        "    print(\"folder exists\")\n"
      ],
      "metadata": {
        "id": "JHhjVqPE63MY"
      },
      "execution_count": null,
      "outputs": []
    },
    {
      "cell_type": "code",
      "source": [
        "datafolder(\"train\",0.7)"
      ],
      "metadata": {
        "id": "-ZvvqP2x7vWA"
      },
      "execution_count": null,
      "outputs": []
    },
    {
      "cell_type": "code",
      "source": [
        "datafolder(\"val\", 0.15)"
      ],
      "metadata": {
        "id": "-_WC3A7i741O"
      },
      "execution_count": null,
      "outputs": []
    },
    {
      "cell_type": "code",
      "source": [
        "datafolder(\"test\", 0.15)"
      ],
      "metadata": {
        "id": "sIrqsKYW7-86"
      },
      "execution_count": null,
      "outputs": []
    },
    {
      "cell_type": "code",
      "source": [
        "from keras.layers import Conv2D, MaxPool2D, Dropout, Flatten, Dense, BatchNormalization, GlobalAveragePooling2D\n",
        "from keras.models import Sequential\n",
        "from keras.preprocessing.image import ImageDataGenerator\n",
        "import keras\n"
      ],
      "metadata": {
        "id": "JUFYsrnd-Q4m"
      },
      "execution_count": null,
      "outputs": []
    },
    {
      "cell_type": "code",
      "source": [
        "model = Sequential()\n",
        "\n",
        "model.add(Conv2D(filters =16, kernel_size=(3,3), activation=\"relu\", input_shape =(224,224,3)))\n",
        "model.add(MaxPool2D(pool_size=(2,2)))\n",
        "\n",
        "model.add(Conv2D(filters =36, kernel_size=(3,3), activation=\"relu\"))\n",
        "model.add(MaxPool2D(pool_size=(2,2)))\n",
        "\n",
        "model.add(Conv2D(filters =64, kernel_size=(3,3), activation=\"relu\"))\n",
        "model.add(MaxPool2D(pool_size=(2,2)))\n",
        "\n",
        "model.add(Conv2D(filters =128, kernel_size=(3,3), activation=\"relu\"))\n",
        "model.add(MaxPool2D(pool_size=(2,2)))\n",
        "\n",
        "model.add(Dropout(rate=0.25))\n",
        "\n",
        "model.add(Flatten())\n",
        "model.add(Dense(units=64, activation='relu'))\n",
        "model.add(Dropout(rate=0.25))\n",
        "model.add(Dense(units=1, activation='sigmoid'))\n",
        "\n",
        "model.summary()\n"
      ],
      "metadata": {
        "id": "E1ldTlwW-7q_"
      },
      "execution_count": null,
      "outputs": []
    },
    {
      "cell_type": "code",
      "source": [
        "from keras.backend import binary_crossentropy\n",
        "model.compile(optimizer = 'adam', loss=keras.losses.binary_crossentropy, metrics =['accuracy'])\n"
      ],
      "metadata": {
        "id": "y2evcZI8Ae7R"
      },
      "execution_count": null,
      "outputs": []
    },
    {
      "cell_type": "code",
      "source": [
        "from keras.preprocessing.image import ImageDataGenerator\n",
        "from keras.applications.mobilenet import MobileNet, preprocess_input"
      ],
      "metadata": {
        "id": "tg494tazkuQ9"
      },
      "execution_count": null,
      "outputs": []
    },
    {
      "cell_type": "code",
      "source": [
        "def preprocessingImages(path):\n",
        "  image_data = ImageDataGenerator(zoom_range=0.2, shear_range=0.2, preprocessing_function = preprocess_input, horizontal_flip=True)\n",
        "  image = image_data.flow_from_directory(directory = path, target_size = (224,224), batch_size = 32, class_mode = 'binary')\n",
        "  return image\n"
      ],
      "metadata": {
        "id": "kh4HS-NEA6LA"
      },
      "execution_count": null,
      "outputs": []
    },
    {
      "cell_type": "code",
      "source": [
        "path = \"/content/train\"\n",
        "train_data = preprocessingImages(path)"
      ],
      "metadata": {
        "colab": {
          "base_uri": "https://localhost:8080/"
        },
        "id": "9rvST8f-BxYD",
        "outputId": "2abed365-6861-40f7-c340-5caa01397706"
      },
      "execution_count": null,
      "outputs": [
        {
          "output_type": "stream",
          "name": "stdout",
          "text": [
            "Found 166 images belonging to 2 classes.\n"
          ]
        }
      ]
    },
    {
      "cell_type": "code",
      "source": [
        "train_data.class_indices"
      ],
      "metadata": {
        "colab": {
          "base_uri": "https://localhost:8080/"
        },
        "id": "B-IvSnjAk6Pz",
        "outputId": "bb6227f4-168a-452c-917d-1ced0a9ceffd"
      },
      "execution_count": null,
      "outputs": [
        {
          "output_type": "execute_result",
          "data": {
            "text/plain": [
              "{'no': 0, 'yes': 1}"
            ]
          },
          "metadata": {},
          "execution_count": 13
        }
      ]
    },
    {
      "cell_type": "code",
      "source": [
        "def preprocessingImages2(path):\n",
        "  image_data = ImageDataGenerator(preprocessing_function = preprocess_input)\n",
        "  image = image_data.flow_from_directory(directory = path, target_size = (224,224), batch_size = 32, class_mode = 'binary')\n",
        "  return image"
      ],
      "metadata": {
        "id": "sRx8zveyCAPS"
      },
      "execution_count": null,
      "outputs": []
    },
    {
      "cell_type": "code",
      "source": [
        "path =\"/content/test\"\n",
        "test_data = preprocessingImages2(path)"
      ],
      "metadata": {
        "colab": {
          "base_uri": "https://localhost:8080/"
        },
        "id": "jq-U-U97CKHK",
        "outputId": "5847219b-c226-426c-ec2e-b8872e18ead8"
      },
      "execution_count": null,
      "outputs": [
        {
          "output_type": "stream",
          "name": "stdout",
          "text": [
            "Found 27 images belonging to 2 classes.\n"
          ]
        }
      ]
    },
    {
      "cell_type": "code",
      "source": [
        "path =\"/content/val\"\n",
        "val_data = preprocessingImages2(path)"
      ],
      "metadata": {
        "colab": {
          "base_uri": "https://localhost:8080/"
        },
        "id": "B07S-97QCVQM",
        "outputId": "771fc790-4c8e-4f8a-ea15-13f1e901dad1"
      },
      "execution_count": null,
      "outputs": [
        {
          "output_type": "stream",
          "name": "stdout",
          "text": [
            "Found 27 images belonging to 2 classes.\n"
          ]
        }
      ]
    },
    {
      "cell_type": "code",
      "source": [
        "import numpy\n",
        "import matplotlib.pyplot as plt\n",
        "from keras.layers import Flatten, Dense\n",
        "from keras.models import Model, load_model\n",
        "from keras.applications.mobilenet import MobileNet\n",
        "import keras\n"
      ],
      "metadata": {
        "id": "itTnYK35lGwO"
      },
      "execution_count": null,
      "outputs": []
    },
    {
      "cell_type": "code",
      "source": [
        "base_model = MobileNet(input_shape = (224,224,3), include_top =False)"
      ],
      "metadata": {
        "id": "P7lzuVf5msTH"
      },
      "execution_count": null,
      "outputs": []
    },
    {
      "cell_type": "code",
      "source": [
        "for layer in base_model.layers:\n",
        "  layer.trainable = False"
      ],
      "metadata": {
        "id": "tNs9Mvncm16w"
      },
      "execution_count": null,
      "outputs": []
    },
    {
      "cell_type": "code",
      "source": [
        "X = Flatten()(base_model.output)\n",
        "x = Dense(units = 1, activation='sigmoid')(X)\n",
        "model = Model(base_model.input,X)\n",
        "model.summary"
      ],
      "metadata": {
        "id": "HQ8yzbADnBzE"
      },
      "execution_count": null,
      "outputs": []
    },
    {
      "cell_type": "code",
      "source": [
        "model.compile(optimizer = 'rmsprop', loss = keras.losses.binary_crossentropy, metrics=['accuracy'])"
      ],
      "metadata": {
        "id": "NMbig4BWnfsP"
      },
      "execution_count": null,
      "outputs": []
    },
    {
      "cell_type": "code",
      "source": [
        "from keras.callbacks import ModelCheckpoint, EarlyStopping\n"
      ],
      "metadata": {
        "id": "xP_9bYFYoC6K"
      },
      "execution_count": null,
      "outputs": []
    },
    {
      "cell_type": "code",
      "source": [
        "mc = ModelCheckpoint(filepath=\"bestmodel.h5\", monitor='val_accuracy', verbose=1, save_best_only = True)"
      ],
      "metadata": {
        "id": "h6OJc9fRoZCD"
      },
      "execution_count": null,
      "outputs": []
    },
    {
      "cell_type": "code",
      "source": [
        "es = EarlyStopping(monitor = 'val_accuracy', min_delta=0.01, patience=3, verbose=1)\n",
        "cb =[mc,es]"
      ],
      "metadata": {
        "id": "xQwxYTE6oc0k"
      },
      "execution_count": null,
      "outputs": []
    },
    {
      "cell_type": "code",
      "source": [
        "hist = model.fit_generator(train_data, steps_per_epoch=10, epochs=30, validation_data=val_data, validation_steps=16, \n",
        "                           callbacks=cb)"
      ],
      "metadata": {
        "id": "n0UTcsH-n_Gx"
      },
      "execution_count": null,
      "outputs": []
    },
    {
      "cell_type": "code",
      "source": [
        "model = load_model(\"/content/bestmodel.h5\")"
      ],
      "metadata": {
        "id": "_f7su2b6pLGr"
      },
      "execution_count": null,
      "outputs": []
    },
    {
      "cell_type": "code",
      "source": [
        "acc = model.evaluate_generator(test_data)[1]\n",
        "print(f\"our model accuracy is {acc*100}%\")"
      ],
      "metadata": {
        "id": "4ad-WE4mpTsO"
      },
      "execution_count": null,
      "outputs": []
    },
    {
      "cell_type": "code",
      "source": [
        "h = hist.history\n",
        "h.keys()\n",
        "plt.plot(h['accuracy'])\n",
        "plt.plot(h['val_accuracy'], c='red')\n",
        "plt.title(\"acc vs val-acc\")\n",
        "plt.show()\n",
        "##check with diffent data set which have more data."
      ],
      "metadata": {
        "id": "9vSWBLsSpzSK"
      },
      "execution_count": null,
      "outputs": []
    }
  ]
}